{
 "cells": [
  {
   "cell_type": "markdown",
   "metadata": {},
   "source": [
    "## Environment"
   ]
  },
  {
   "cell_type": "code",
   "execution_count": 1,
   "metadata": {},
   "outputs": [],
   "source": [
    "import gymnasium as gym\n",
    "import numpy as np\n",
    "import torch\n",
    "import torch.nn as nn\n",
    "import torch.optim as optim\n",
    "from torch.utils.data import DataLoader, Dataset\n",
    "from tqdm.auto import tqdm\n",
    "from x_transformers import ContinuousTransformerWrapper, Encoder\n",
    "from matplotlib import pyplot as plt\n",
    "\n",
    "env = gym.make(\"CartPole-v1\")\n",
    "\n",
    "\n",
    "def play(n_steps: int = 1000, state_size: int = 6) -> np.ndarray:\n",
    "    env.reset()\n",
    "    terminated = False\n",
    "    train_data = np.empty((n_steps, state_size))\n",
    "    for i in range(n_steps):\n",
    "        if terminated:\n",
    "            observation, _ = env.reset()\n",
    "            terminated = False\n",
    "            reward = 0\n",
    "            action = 0\n",
    "        else:\n",
    "            action = env.action_space.sample()  # Random action\n",
    "            observation, reward, terminated, _, _ = env.step(action)\n",
    "        train_data[i] = np.append(observation.ravel(), [reward, action])\n",
    "\n",
    "    return train_data\n",
    "\n",
    "\n",
    "class ObservationDataset(Dataset):\n",
    "    def __init__(self, observations, y):\n",
    "        self.observations = torch.tensor(observations, dtype=torch.float32)\n",
    "        self.y = torch.tensor(y, dtype=torch.float32)\n",
    "\n",
    "    def __len__(self):\n",
    "        return len(self.observations)\n",
    "\n",
    "    def __getitem__(self, idx) -> tuple[torch.Tensor, torch.Tensor]:\n",
    "        return self.observations[idx], self.y[idx]\n",
    "\n",
    "\n",
    "device = \"cuda:0\" if torch.cuda.is_available() else \"cpu\"\n",
    "device = \"mps\"\n",
    "batch_size = 128\n",
    "input_size = 6  # State + action + reward\n",
    "out_size = 5  # No action\n",
    "data = play(2**18, input_size)\n",
    "data = (data - data.mean(0)) / data.std()\n",
    "\n",
    "dataset = ObservationDataset(data[:-1], data[1:])\n",
    "dataloader = DataLoader(dataset, batch_size, shuffle=True)"
   ]
  },
  {
   "cell_type": "markdown",
   "metadata": {},
   "source": [
    "## Standard prediction"
   ]
  },
  {
   "cell_type": "code",
   "execution_count": 2,
   "metadata": {},
   "outputs": [
    {
     "name": "stdout",
     "output_type": "stream",
     "text": [
      "number_of_parameters: 6304512\n"
     ]
    },
    {
     "data": {
      "application/vnd.jupyter.widget-view+json": {
       "model_id": "02304f6dc5174ec0a5de4351bba660eb",
       "version_major": 2,
       "version_minor": 0
      },
      "text/plain": [
       "  0%|          | 0/2048 [00:00<?, ?it/s]"
      ]
     },
     "metadata": {},
     "output_type": "display_data"
    }
   ],
   "source": [
    "def train_no_diffusion(model, dataloader, use_dy=True):\n",
    "    loss_fn = nn.MSELoss()\n",
    "    optimizer = optim.AdamW(model.parameters(), lr=3e-5)\n",
    "    pbar = tqdm(dataloader)\n",
    "    losses = []\n",
    "    for x, y in pbar:\n",
    "        x = x.to(device)\n",
    "        y = y.to(device)\n",
    "        with torch.no_grad():\n",
    "            if use_dy:\n",
    "                dy = y - x\n",
    "                objective = dy\n",
    "            else:\n",
    "                objective = y\n",
    "\n",
    "        y_pred = model(x.unsqueeze(2))[:, :out_size, 0]\n",
    "        loss = loss_fn(objective[:, :out_size], y_pred)\n",
    "        losses.append(loss.cpu().detach().item())\n",
    "        loss.backward()\n",
    "        pbar.set_description(f\"Loss: {loss:.3f}\")\n",
    "        optimizer.step()\n",
    "        optimizer.zero_grad()\n",
    "    return losses\n",
    "\n",
    "\n",
    "model = ContinuousTransformerWrapper(\n",
    "    max_seq_len=input_size,  # Patches\n",
    "    dim_in=1,  # In Patch pixels\n",
    "    dim_out=1,  # Out Patch pixels\n",
    "    emb_dim=256,\n",
    "    attn_layers=Encoder(dim=256, depth=6, heads=8, attn_flash=True),\n",
    ").to(device)\n",
    "number_of_parameters = sum(p.numel() for p in model.parameters())\n",
    "print(f\"number_of_parameters: {number_of_parameters}\")\n",
    "losses = train_no_diffusion(model, dataloader, use_dy=True)"
   ]
  },
  {
   "cell_type": "code",
   "execution_count": 3,
   "metadata": {},
   "outputs": [
    {
     "data": {
      "text/plain": [
       "[<matplotlib.lines.Line2D at 0x16223a4d0>]"
      ]
     },
     "execution_count": 3,
     "metadata": {},
     "output_type": "execute_result"
    },
    {
     "data": {
      "image/png": "[encoded data removed]",
      "text/plain": [
       "<Figure size 640x480 with 1 Axes>"
      ]
     },
     "metadata": {},
     "output_type": "display_data"
    },
    {
     "ename": "",
     "evalue": "",
     "output_type": "error",
     "traceback": [
      "\u001b[1;31mThe Kernel crashed while executing code in the current cell or a previous cell. \n",
      "\u001b[1;31mPlease review the code in the cell(s) to identify a possible cause of the failure. \n",
      "\u001b[1;31mClick <a href='https://aka.ms/vscodeJupyterKernelCrash'>here</a> for more info. \n",
      "\u001b[1;31mView Jupyter <a href='command:jupyter.viewOutput'>log</a> for further details."
     ]
    }
   ],
   "source": [
    "plt.plot(losses)"
   ]
  },
  {
   "cell_type": "code",
   "execution_count": 5,
   "metadata": {},
   "outputs": [
    {
     "data": {
      "text/plain": [
       "0.08592780105769635"
      ]
     },
     "execution_count": 5,
     "metadata": {},
     "output_type": "execute_result"
    }
   ],
   "source": [
    "np.mean(losses[-200:])"
   ]
  },
  {
   "cell_type": "markdown",
   "metadata": {},
   "source": [
    "## Diffusion prediction"
   ]
  },
  {
   "cell_type": "code",
   "execution_count": 6,
   "metadata": {},
   "outputs": [],
   "source": [
    "model = ContinuousTransformerWrapper(\n",
    "    max_seq_len=input_size + out_size + 1,  # previous state, noised state, time\n",
    "    dim_in=1,  # In Patch pixels\n",
    "    dim_out=1,  # Out Patch pixels\n",
    "    emb_dim=256,\n",
    "    attn_layers=Encoder(dim=256, depth=6, heads=8, attn_flash=True),\n",
    ").to(device)"
   ]
  },
  {
   "cell_type": "code",
   "execution_count": 7,
   "metadata": {},
   "outputs": [
    {
     "data": {
      "application/vnd.jupyter.widget-view+json": {
       "model_id": "fe9b2454109e4ce6ba4b779440146bc1",
       "version_major": 2,
       "version_minor": 0
      },
      "text/plain": [
       "  0%|          | 0/2048 [00:00<?, ?it/s]"
      ]
     },
     "metadata": {},
     "output_type": "display_data"
    }
   ],
   "source": [
    "optimizer = optim.AdamW(model.parameters(), lr=3e-5)\n",
    "model.train()\n",
    "pbar = tqdm(dataloader)\n",
    "losses = []\n",
    "for cond, x0 in pbar:\n",
    "    b = x0.size(0)\n",
    "    cond, x0 = cond.to(device), x0.to(device)[:, :out_size]\n",
    "    z_1 = torch.randn_like(x0).to(device)\n",
    "    t = torch.rand(b).to(device).view(-1, 1)\n",
    "    z_t = (1 - t) * x0 + t * z_1\n",
    "    model_input = torch.cat([z_t, t, cond], 1).unsqueeze(2)\n",
    "    v_t = model(model_input)[:, :out_size, 0]\n",
    "\n",
    "    loss = ((z_1 - x0 - v_t) ** 2).mean()\n",
    "\n",
    "    # w_t = t / (1 - t)\n",
    "    # snr_prime_t = -2 / (t * (1 - t))\n",
    "    # eps_pred = -2 / (snr_prime_t * t) * (v_t + (1 / (1 - t)) * z_t)\n",
    "    # loss = -1 / (2 * b) * (w_t * snr_prime_t * ((eps_pred - z_1) ** 2)).mean()\n",
    "\n",
    "    loss.backward()\n",
    "    losses.append(loss.cpu().detach().item())\n",
    "    pbar.set_description(f\"Loss: {loss:.5f}\")\n",
    "    optimizer.step()\n",
    "    optimizer.zero_grad()"
   ]
  },
  {
   "cell_type": "code",
   "execution_count": 8,
   "metadata": {},
   "outputs": [
    {
     "data": {
      "text/plain": [
       "[<matplotlib.lines.Line2D at 0x79f0fb3c69b0>]"
      ]
     },
     "execution_count": 8,
     "metadata": {},
     "output_type": "execute_result"
    },
    {
     "data": {
      "image/png": "[encoded data removed]",
      "text/plain": [
       "<Figure size 640x480 with 1 Axes>"
      ]
     },
     "metadata": {},
     "output_type": "display_data"
    }
   ],
   "source": [
    "plt.plot(losses)"
   ]
  },
  {
   "cell_type": "code",
   "execution_count": 42,
   "metadata": {},
   "outputs": [
    {
     "name": "stdout",
     "output_type": "stream",
     "text": [
      "tensor(1.3148, device='cuda:0')\n",
      "tensor(1.1849, device='cuda:0')\n",
      "tensor(1.0647, device='cuda:0')\n",
      "tensor(0.9535, device='cuda:0')\n",
      "tensor(0.8503, device='cuda:0')\n",
      "tensor(0.7545, device='cuda:0')\n",
      "tensor(0.6651, device='cuda:0')\n",
      "tensor(0.5821, device='cuda:0')\n",
      "tensor(0.5058, device='cuda:0')\n",
      "tensor(0.4362, device='cuda:0')\n",
      "tensor(0.3735, device='cuda:0')\n",
      "tensor(0.3180, device='cuda:0')\n",
      "tensor(0.2698, device='cuda:0')\n",
      "tensor(0.2291, device='cuda:0')\n",
      "tensor(0.1961, device='cuda:0')\n",
      "tensor(0.1709, device='cuda:0')\n",
      "tensor(0.1535, device='cuda:0')\n",
      "tensor(0.1434, device='cuda:0')\n",
      "tensor(0.1399, device='cuda:0')\n",
      "tensor(0.1426, device='cuda:0')\n"
     ]
    }
   ],
   "source": [
    "@torch.no_grad()\n",
    "def sample(model, z_t, cond, x0, sample_steps=10):\n",
    "    loss_fn = nn.MSELoss()\n",
    "    model.eval()\n",
    "    b = z_t.size(0)\n",
    "    dt = 1.0 / sample_steps\n",
    "    dt = torch.tensor([dt] * b).to(z.device).view(-1, 1)\n",
    "\n",
    "    steps = [z_t]\n",
    "    for i in range(sample_steps, 0, -1):\n",
    "        t = i / sample_steps\n",
    "        t = torch.tensor([t] * b).to(z_t.device)\n",
    "\n",
    "        model_input = torch.cat([z_t, t.unsqueeze(-1), cond], 1).unsqueeze(2)\n",
    "        v_t = model(model_input)[:, :out_size, 0]\n",
    "\n",
    "        z_t = z_t - dt * v_t\n",
    "\n",
    "        steps.append(z_t)\n",
    "\n",
    "        print(loss_fn(x0, z_t))\n",
    "    return steps\n",
    "\n",
    "\n",
    "cond, x0 = dataset[2**16 : 2**16 + 128]\n",
    "cond, x0 = cond.to(device), x0.to(device)[:, :out_size]\n",
    "z = torch.randn_like(x0)\n",
    "_ = sample(model, z, cond, x0, 20)"
   ]
  }
 ],
 "metadata": {
  "kernelspec": {
   "display_name": "gpu",
   "language": "python",
   "name": "python3"
  },
  "language_info": {
   "codemirror_mode": {
    "name": "ipython",
    "version": 3
   },
   "file_extension": ".py",
   "mimetype": "text/x-python",
   "name": "python",
   "nbconvert_exporter": "python",
   "pygments_lexer": "ipython3",
   "version": "3.11.7"
  }
 },
 "nbformat": 4,
 "nbformat_minor": 2
}
